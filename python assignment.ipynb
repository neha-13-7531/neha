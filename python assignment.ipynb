{
 "cells": [
  {
   "cell_type": "code",
   "execution_count": 2,
   "id": "3a5a553d-48f0-40af-a8b2-a38a67c9cf14",
   "metadata": {},
   "outputs": [
    {
     "name": "stdout",
     "output_type": "stream",
     "text": [
      "Generated Password: %9Dw/R99?8Uad)(r\n"
     ]
    }
   ],
   "source": [
    "#implementation of a password generator with rules for length, special characters, and numbers:\n",
    "import random\n",
    "import string\n",
    "\n",
    "def generate_password(length=12, use_uppercase=True, use_numbers=True, use_special_chars=True):\n",
    "    \"\"\"\n",
    "    Generate a password with specified rules.\n",
    "\n",
    "    Args:\n",
    "        length (int): Password length. Defaults to 12.\n",
    "        use_uppercase (bool): Include uppercase letters. Defaults to True.\n",
    "        use_numbers (bool): Include numbers. Defaults to True.\n",
    "        use_special_chars (bool): Include special characters. Defaults to True.\n",
    "\n",
    "    Returns:\n",
    "        str: Generated password.\n",
    "    \"\"\"\n",
    "\n",
    "    # Define character sets\n",
    "    lowercase = string.ascii_lowercase  # password have small case letter\n",
    "    uppercase = string.ascii_uppercase   # atleast one letter is capital\n",
    "    digits = string.digits              # password should digit\n",
    "    special_chars = string.punctuation    # for special charecter (@,!,*)\n",
    "\n",
    "    # Combine character sets based on rules\n",
    "    chars = lowercase\n",
    "    if use_uppercase:\n",
    "        chars += uppercase\n",
    "    if use_numbers:\n",
    "        chars += digits\n",
    "    if use_special_chars:\n",
    "        chars += special_chars\n",
    "\n",
    "    # password includes at least one character from each set\n",
    "    password = []\n",
    "    if use_uppercase:\n",
    "        password.append(random.choice(uppercase))\n",
    "    if use_numbers:\n",
    "        password.append(random.choice(digits))\n",
    "    if use_special_chars:\n",
    "        password.append(random.choice(special_chars))\n",
    "\n",
    "    \n",
    "    for _ in range(length - len(password)):\n",
    "        password.append(random.choice(chars))\n",
    "\n",
    "    \n",
    "    random.shuffle(password)  # shuffle for take list of charecter and arrange them randomly\n",
    "\n",
    "    return ''.join(password)\n",
    "\n",
    "password = generate_password(length=16, use_uppercase=True, use_numbers=True, use_special_chars=True)\n",
    "print(\"Generated Password:\", password)\n"
   ]
  },
  {
   "cell_type": "code",
   "execution_count": 4,
   "id": "3c2d3f61-575c-4507-a4d4-b3a244abacb3",
   "metadata": {},
   "outputs": [
    {
     "name": "stdout",
     "output_type": "stream",
     "text": [
      "6\n",
      "5\n"
     ]
    }
   ],
   "source": [
    "#Develop a function to calculate the Levenshtein distance (edit distance) between two strings\n",
    "def Levenshtein_Distance(string1, string2):    \n",
    "    m, n = len(string1), len(string2)    \n",
    "    dp = [[0 for j in range(n+1)] for i in range(m+1)]    \n",
    "      \n",
    "    # Initializing base cases  \n",
    "    for i in range(m+1):    \n",
    "        dp[i][0] = i     #dp is row and column\n",
    "    for j in range(n+1):    \n",
    "        dp[0][j] = j    \n",
    "      \n",
    "    # edit distance  \n",
    "    for i in range(1, m+1):    \n",
    "        for j in range(1, n+1):    \n",
    "            if s1[i-1] == s2[j-1]:    \n",
    "                dp[i][j] = dp[i-1][j-1]    \n",
    "            else:    \n",
    "                dp[i][j] = min(dp[i-1][j] + 1,    # Deletion  \n",
    "                               dp[i][j-1] + 1,    # Insertion  \n",
    "                               dp[i-1][j-1] + 1)  # Substitution  \n",
    "    return dp[m][n]    \n",
    "  \n",
    "# Test cases  \n",
    "string1 = \"Good\"    \n",
    "string2 = \"Morning\"    \n",
    "print(Levenshtein_Distance(string1, string2))    \n",
    "  \n",
    "string1 = \"Neha\"    \n",
    "string2 = \"Rikame\"    \n",
    "print(Levenshtein_Distance(string1, string2))    "
   ]
  },
  {
   "cell_type": "code",
   "execution_count": 11,
   "id": "e35c4aac-4246-4443-a56b-fd08625fb8a2",
   "metadata": {},
   "outputs": [
    {
     "name": "stdout",
     "output_type": "stream",
     "text": [
      "'Neha' is not a palindrome.\n",
      "'MOM' is a palindrome.\n",
      "'DAD' is a palindrome.\n"
     ]
    }
   ],
   "source": [
    "#Write a Python program to check if a string is a palindrome\n",
    "def is_palindrome(s):\n",
    "    \"\"\"\n",
    "    Check if a string is a palindrome.\n",
    "\n",
    "    Args:\n",
    "        s (str): Input string.\n",
    "\n",
    "    Returns:\n",
    "        bool: True if the string is a palindrome, False otherwise.\n",
    "    \"\"\"\n",
    "    s = ''.join(c for c in s if c.isalnum()).lower()  # Remove non-alphanumeric characters and convert to lowercase\n",
    "    return s == s[::-1]  # Compare the string with its reverse\n",
    "\n",
    "# Example usage:\n",
    "strings = [\"Neha\",\"MOM\",\"DAD\"]\n",
    "\n",
    "for s in strings:\n",
    "    if is_palindrome(s):\n",
    "        print(f\"'{s}' is a palindrome.\")\n",
    "    else:\n",
    "        print(f\"'{s}' is not a palindrome.\")\n",
    "\n",
    "\n",
    "    \n"
   ]
  },
  {
   "cell_type": "code",
   "execution_count": 12,
   "id": "521b8f98-7be6-414b-841f-3278d01fdf47",
   "metadata": {},
   "outputs": [
    {
     "name": "stdout",
     "output_type": "stream",
     "text": [
      "The second largest number in the list is: 10\n"
     ]
    }
   ],
   "source": [
    "#Python program to find the second largest number in a list without using built-in functions:\n",
    "\n",
    "\n",
    "def find_second_largest(num):\n",
    "    \"\"\"\n",
    "    Find the second largest number in a list.\n",
    "\n",
    "    Args:\n",
    "        num (list): A list of numbers.\n",
    "\n",
    "    Returns:\n",
    "        int: The second largest number in the list. If no second largest number exists, returns None.\n",
    "    \"\"\"\n",
    "\n",
    "    # Check if the list has less than 2 elements\n",
    "    if len(num) < 2:\n",
    "        return None\n",
    "\n",
    "    # Initialize max and second_max variables\n",
    "    max_num = second_max = float('-inf')\n",
    "\n",
    "    # Iterate through the list\n",
    "    for n in num:\n",
    "        if n > max_num:\n",
    "            second_max = max_num\n",
    "            max_num = n\n",
    "        elif n > second_max and num != max_num:\n",
    "            second_max = n\n",
    "\n",
    "    # Check second largest is in the list\n",
    "    if second_max == float('-inf'):\n",
    "        return None\n",
    "    else:\n",
    "        return second_max\n",
    "\n",
    "# Example \n",
    "numbers = [2,4,7,5,10,60]\n",
    "second_largest = find_second_largest(numbers)\n",
    "\n",
    "if second_largest is not None:\n",
    "    print(f\"The second largest number in the list is: {second_largest}\")\n",
    "else:\n",
    "    print(\"No second largest number exists in the list.\")\n",
    "\n"
   ]
  },
  {
   "cell_type": "code",
   "execution_count": 14,
   "id": "591cea28-bec2-4938-b273-ea3c4bfe0bea",
   "metadata": {},
   "outputs": [
    {
     "name": "stdout",
     "output_type": "stream",
     "text": [
      "rikame\n"
     ]
    }
   ],
   "source": [
    "# Write a Python program to find the longest word in a given sentence and its length.\n",
    "str1 = \"my name is neha rikame\"\n",
    "\n",
    "# Split the sentence into words\n",
    "words = str1.split()\n",
    "\n",
    "# Find the longest word\n",
    "res = max(words, key=len)  # max for find maximum length\n",
    "\n",
    "print(res)"
   ]
  },
  {
   "cell_type": "code",
   "execution_count": 15,
   "id": "40c55103-7212-4a7e-8b57-23c78cc55059",
   "metadata": {},
   "outputs": [
    {
     "name": "stdout",
     "output_type": "stream",
     "text": [
      "Unique subsets:\n",
      "[]\n",
      "[1]\n",
      "[2]\n",
      "[1, 2]\n",
      "[3]\n",
      "[1, 3]\n",
      "[2, 3]\n",
      "[1, 2, 3]\n"
     ]
    }
   ],
   "source": [
    "#Write a Python program to find all unique subsets of a given list of numbers\n",
    "def find_unique_subsets(nums):\n",
    "    \"\"\"\n",
    "    Find all unique subsets of a given list of numbers.\n",
    "\n",
    "    Args:\n",
    "        nums (list): A list of numbers.\n",
    "\n",
    "    Returns:\n",
    "        list: A list of lists, where each sublist is a unique subset of the input list.\n",
    "    \"\"\"\n",
    "\n",
    "    # result list with an empty subset\n",
    "    result = [[]]\n",
    "\n",
    "    # Iterate through the input list\n",
    "    for num in nums:\n",
    "        # Calculate the length of the current result list\n",
    "        n = len(result)\n",
    "\n",
    "        # Iterate through the current result list\n",
    "        for i in range(n):\n",
    "            # Create a new subset by appending the current number to an existing subset\n",
    "            new_subset = result[i] + [num]\n",
    "\n",
    "            # Add the new subset to the result list if it's not already present\n",
    "            if new_subset not in result:\n",
    "                result.append(new_subset)\n",
    "\n",
    "    return result\n",
    "\n",
    "# Example usage:\n",
    "numbers = [1, 2, 3]\n",
    "unique_subsets = find_unique_subsets(numbers)\n",
    "\n",
    "print(\"Unique subsets:\")\n",
    "for subset in unique_subsets:\n",
    "    print(subset)\n"
   ]
  },
  {
   "cell_type": "code",
   "execution_count": 16,
   "id": "2fdc8371-ba91-46d9-973b-ae008508f464",
   "metadata": {},
   "outputs": [
    {
     "name": "stdout",
     "output_type": "stream",
     "text": [
      "      Values\n",
      "0   1.764052\n",
      "2   0.978738\n",
      "3   2.240893\n",
      "4   1.867558\n",
      "6   0.950088\n",
      "11  1.454274\n",
      "12  0.761038\n",
      "16  1.494079\n",
      "22  0.864436\n",
      "24  2.269755\n",
      "28  1.532779\n",
      "29  1.469359\n",
      "36  1.230291\n",
      "37  1.202380\n",
      "43  1.950775\n",
      "47  0.777490\n",
      "72  1.139401\n",
      "81  0.900826\n",
      "84  1.488252\n",
      "85  1.895889\n",
      "86  1.178780\n",
      "89  1.054452\n",
      "91  1.222445\n",
      "93  0.976639\n",
      "97  1.785870\n"
     ]
    }
   ],
   "source": [
    "#Filter a DataFrame to include only rows where a certain column's value is above the 75th percentile.\n",
    "import pandas as pd\n",
    "import numpy as np\n",
    "\n",
    "# Create a DataFrame\n",
    "np.random.seed(0) # create random number,index start with 0 index\n",
    "data = np.random.randn(100) #create array of random number\n",
    "df = pd.DataFrame(data, columns=['Values'])\n",
    "\n",
    "# Calculate the 75th percentile\n",
    "percentile_75 = df['Values'].quantile(0.75)\n",
    "\n",
    "# Filter the DataFrame to include only rows above the 75th percentile\n",
    "filtered_df = df[df['Values'] > percentile_75]\n",
    "\n",
    "print(filtered_df)\n",
    "\n"
   ]
  },
  {
   "cell_type": "code",
   "execution_count": 17,
   "id": "beb3308d-94d0-4eb7-9c7d-002a02fde074",
   "metadata": {},
   "outputs": [
    {
     "name": "stdout",
     "output_type": "stream",
     "text": [
      "Matrix A:\n",
      "[[1 2]\n",
      " [3 4]]\n",
      "\n",
      "Eigenvalues:\n",
      "[-0.37228132  5.37228132]\n",
      "\n",
      "Eigenvectors:\n",
      "[[-0.82456484 -0.41597356]\n",
      " [ 0.56576746 -0.90937671]]\n",
      "\n",
      "Verifying eigenvalue equation for λ = -0.3722813232690143:\n",
      "Ax:\n",
      "[ 0.30697009 -0.21062466]\n",
      "λx:\n",
      "[ 0.30697009 -0.21062466]\n",
      "\n",
      "Verifying eigenvalue equation for λ = 5.372281323269014:\n",
      "Ax:\n",
      "[-2.23472698 -4.88542751]\n",
      "λx:\n",
      "[-2.23472698 -4.88542751]\n"
     ]
    }
   ],
   "source": [
    "#Write a program to find the eigenvalues and eigenvectors of a 2x2 matrix using NumPy.\n",
    "import numpy as np\n",
    "\n",
    "# Define a 2x2 matrix\n",
    "A = np.array([[1, 2], [3, 4]])\n",
    "\n",
    "# Calculate the eigenvalues and eigenvectors\n",
    "eigenvalues, eigenvectors = np.linalg.eig(A) # to return value in square array\n",
    "\n",
    "# Print the results\n",
    "print(\"Matrix A:\")\n",
    "print(A)\n",
    "print(\"\\nEigenvalues:\")\n",
    "print(eigenvalues)\n",
    "print(\"\\nEigenvectors:\")\n",
    "print(eigenvectors)\n",
    "\n",
    "# Verify the eigenvalue equation (Ax = λx)\n",
    "for i, eigenvalue in enumerate(eigenvalues):\n",
    "    eigenvector = eigenvectors[:, i]\n",
    "    print(f\"\\nVerifying eigenvalue equation for λ = {eigenvalue}:\")\n",
    "    print(\"Ax:\")  # Ax  (A is eignvector) \n",
    "    print(np.dot(A, eigenvector))\n",
    "    print(\"λx:\") \n",
    "    print(eigenvalue * eigenvector)\n",
    "\n"
   ]
  },
  {
   "cell_type": "code",
   "execution_count": null,
   "id": "7c56d4b8-45fc-4c8e-ad50-a6fb9eaf8f08",
   "metadata": {},
   "outputs": [],
   "source": []
  }
 ],
 "metadata": {
  "kernelspec": {
   "display_name": "Python 3 (ipykernel)",
   "language": "python",
   "name": "python3"
  },
  "language_info": {
   "codemirror_mode": {
    "name": "ipython",
    "version": 3
   },
   "file_extension": ".py",
   "mimetype": "text/x-python",
   "name": "python",
   "nbconvert_exporter": "python",
   "pygments_lexer": "ipython3",
   "version": "3.12.7"
  }
 },
 "nbformat": 4,
 "nbformat_minor": 5
}
