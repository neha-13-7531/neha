{
 "cells": [
  {
   "cell_type": "code",
   "execution_count": 2,
   "id": "271c6ff0-2943-446c-a93b-5f2d274ecd2f",
   "metadata": {},
   "outputs": [],
   "source": [
    "import requests # to send the request to server or broswer\n",
    "from bs4 import BeautifulSoup  # parsing the html,xml data\n",
    "import pandas as pd\n",
    "import time   # to perform calculation with time \n",
    "import random    "
   ]
  },
  {
   "cell_type": "code",
   "execution_count": 11,
   "id": "c846325a-d831-4174-808a-f78d7d67a68b",
   "metadata": {},
   "outputs": [
    {
     "name": "stdout",
     "output_type": "stream",
     "text": [
      "Scraping completed. Data saved to amazon_products.csv\n",
      "                                        Product Name Price (₹)  \\\n",
      "0                  Reintroducing George Herbert Mead     2,979   \n",
      "1  The sanctum key: A glimpse of God from the sho...       399   \n",
      "2  I Don't Love You Anymore: Moving On and Living...       207   \n",
      "3  Samsara: Enter the Valley of the Gods (\"India'...       177   \n",
      "4                                   A Man Called Ove       258   \n",
      "\n",
      "               Rating  \n",
      "0  5.0 out of 5 stars  \n",
      "1  5.0 out of 5 stars  \n",
      "2  4.1 out of 5 stars  \n",
      "3  4.3 out of 5 stars  \n",
      "4  4.6 out of 5 stars  \n"
     ]
    }
   ],
   "source": [
    "user_agents = [\n",
    "    \"Mozilla/5.0 (Windows NT 10.0; Win64; x64) AppleWebKit/537.36 (KHTML, like Gecko) Chrome/91.0.4472.124 Safari/537.36\",\n",
    "    \"Mozilla/5.0 (Macintosh; Intel Mac OS X 10_15_7) AppleWebKit/537.36 (KHTML, like Gecko) Chrome/91.0.4472.124 Safari/537.36\",\n",
    "    \"Mozilla/5.0 (X11; Linux x86_64) AppleWebKit/537.36 (KHTML, like Gecko) Chrome/91.0.4472.124 Safari/537.36\",\n",
    "]\n",
    "\n",
    "headers={\n",
    "    \"User-Agent\":random.choice(user_agents), # random.choice for we select randomly user\n",
    "    \"Accept-Language\":\"en-US,en;q=0.9\",\n",
    "}\n",
    "url=\"https://www.amazon.in/s?k=novel&crid=GDCDUOPO6190&sprefix=novel%2Caps%2C720&ref=nb_sb_noss_2\"\n",
    "response=requests.get(url,headers=headers) # to send request by get method\n",
    "if response.status_code==200:  # 200 is source code this equal to 200 then we fetch the data\n",
    "    soup=BeautifulSoup(response.content,\"html.parser\")\n",
    "    product_names=[]  # we initialize empty list\n",
    "    product_prices=[]\n",
    "    product_ratings=[]\n",
    "# Locating the main slot containing all products\n",
    "    product_container = soup.find(\"div\", {\"class\": \"s-main-slot s-result-list s-search-results sg-row\"})\n",
    "\n",
    "    # Iterating over individual products\n",
    "    if product_container:\n",
    "        for product in product_container.find_all(\"div\", {\"data-component-type\": \"s-search-result\"}):\n",
    "            # Extracting product name\n",
    "            name = product.find(\"h2\", {\"class\": \"a-size-medium a-spacing-none a-color-base a-text-normal\"})\n",
    "            # Extracting product price\n",
    "            price = product.find(\"span\", {\"class\": \"a-price-whole\"})\n",
    "            # Extracting product rating\n",
    "            rating = product.find(\"span\", {\"class\": \"a-icon-alt\"})\n",
    "            product_names.append(name.text.strip() if name else \"N/A\")\n",
    "            product_prices.append(price.text.strip() if price else \"N/A\")\n",
    "            product_ratings.append(rating.text.strip() if rating else \"N/A\")\n",
    "\n",
    "    # Saving fetched data to DataFrame\n",
    "    data = {\n",
    "        \"Product Name\": product_names,\n",
    "        \"Price (₹)\": product_prices,\n",
    "        \"Rating\": product_ratings,\n",
    "    }\n",
    "    df = pd.DataFrame(data)\n",
    "\n",
    "    # Saving the dataframe to a CSV file\n",
    "    df.to_csv(\"amazon_products.csv\", index=False)\n",
    "    print(\"Scraping completed. Data saved to amazon_products.csv\")\n",
    "    print(df.head())\n",
    "else:\n",
    "    print(f\"Failed to fetch the page. Status code: {response.status_code}\")"
   ]
  },
  {
   "cell_type": "code",
   "execution_count": null,
   "id": "a6a02876-286d-418c-9384-1c0b2f77554c",
   "metadata": {},
   "outputs": [],
   "source": []
  }
 ],
 "metadata": {
  "kernelspec": {
   "display_name": "Python 3 (ipykernel)",
   "language": "python",
   "name": "python3"
  },
  "language_info": {
   "codemirror_mode": {
    "name": "ipython",
    "version": 3
   },
   "file_extension": ".py",
   "mimetype": "text/x-python",
   "name": "python",
   "nbconvert_exporter": "python",
   "pygments_lexer": "ipython3",
   "version": "3.12.7"
  }
 },
 "nbformat": 4,
 "nbformat_minor": 5
}
